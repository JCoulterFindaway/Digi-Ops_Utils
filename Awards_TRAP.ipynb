{
 "cells": [
  {
   "cell_type": "code",
   "execution_count": 6,
   "metadata": {},
   "outputs": [],
   "source": [
    "import pandas as pd\n",
    "import numpy as np\n",
    "import datetime\n",
    "import re\n",
    "from fuzzywuzzy import fuzz\n",
    "\n"
   ]
  },
  {
   "cell_type": "code",
   "execution_count": 8,
   "metadata": {},
   "outputs": [],
   "source": [
    "df = pd.read_excel(\"Pub provided awards 8-14-2023 to 8-28-2023.xlsx\")"
   ]
  },
  {
   "cell_type": "code",
   "execution_count": 9,
   "metadata": {},
   "outputs": [],
   "source": [
    "df = df.rename(columns={'newvalue':'Publisher-Provided Awards'})"
   ]
  },
  {
   "cell_type": "code",
   "execution_count": 10,
   "metadata": {},
   "outputs": [],
   "source": [
    "df_NYT_1 = pd.read_excel(\"NYT ids 8-21-2023.xlsx\")\n",
    "df_NYT_2 = pd.read_excel(\"NYT ids 8-28-2023.xlsx\")"
   ]
  },
  {
   "cell_type": "code",
   "execution_count": 11,
   "metadata": {},
   "outputs": [
    {
     "data": {
      "text/plain": [
       "['2015 Audie Award Finalist Short-listed']"
      ]
     },
     "execution_count": 11,
     "metadata": {},
     "output_type": "execute_result"
    }
   ],
   "source": [
    "award = df.loc[1, 'Publisher-Provided Awards'].split(\"|\")\n",
    "award"
   ]
  },
  {
   "cell_type": "code",
   "execution_count": 12,
   "metadata": {},
   "outputs": [],
   "source": [
    "df['Removed Non-Winners Count'] = \"\"\n",
    "df['Winner List'] = \"\"\n",
    "df_x = df[['content_id','Publisher-Provided Awards','Removed Non-Winners Count','Winner List']]"
   ]
  },
  {
   "cell_type": "code",
   "execution_count": 13,
   "metadata": {},
   "outputs": [],
   "source": [
    "award_list = (\"Oprah's Book Club\",\"Oprah's Book Club\",\"YALSA Amazing Audiobooks for Young Adults\",\"YALSA Best of the Best Winner\",\"Hugo Award Winner\",\"Caldecott Medal\",\"Grammy Award\",\"Man Booker Prize Winner\",\"ALSC Notable Children's Recording\",\"Alex Award Winner\",\"Newbery Honor\",\"Pulitzer Prize Winner\",\"Edgar Award Winner\",\"National Book Critics Circle Award Winner\",\"Nebula Award Winner\",\"PW Listen-Up Award Winner\",\"Audie Award Winner\",\"Nobel Prize Winner\",\"Library Journal Best Audiobooks of Year\",\"AudioFile Earphone Award Winner\",\"Carnegie Medal in Literature\",\"Newbery Medal Winner\",\"National Book Award Winner\",\"RUSA Notable Book\",\"YALSA Amazing Audiobook\",\"RITA Award\",\"ITW Thriller Award\",\"Odyssey Award\",\"Coretta Scott King Award\",\"Pura Belpre Award\",\"Printz Award\",\"William C. Morris Award\",\"Sibert\",\"Stonewall\",\"American Indian Youth Literature\",\"Asian / Pacific American Award\",\"Sidney Taylor Book Award\",\"Reese's Book Club\",\"Good Morning America Book Club\",\"YALSA Award Winner\",\"Audie Audiobook of the Year Winner\")\n",
    "award_min = (\"Oprah's Book Club\",\"Oprah Book Club\",\"Amazing Audiobooks for Young Adults\",\"YALSA Best of the Best\",\"Hugo\",\"Caldecott Medal\",\"Grammy\",\"Man Booker\",\"ALSC Notable Children's Recording\",\"Alex\",\"Newbery Honor\",\"Pulitzer\",\"Edgar\",\"National Book Critics Circle\",\"Nebula\",\"PW Listen-Up\",\"Audie\",\"Nobel\",\"Library Journal Best Audiobooks of Year\",\"AudioFile Earphone Award\",\"Carnegie Medal in Literature\",\"Newbery Medal\",\"National Book\",\"RUSA Notable Book\",\"YALSA Amazing Audiobook\",\"RITA\",\"ITW Thriller\",\"Odyssey\",\"Coretta Scott King\",\"Pura Belpre\",\"Printz\",\"William C. Morris\",\"Sibert\",\"Stonewall\",\"American Indian Youth Literature\",\"Asian / Pacific American\",\"Sidney Taylor Book\",\"Reese's Book Club\",\"Good Morning America Book Club\",\"YALSA\",\"Audie Audiobook of the Year\")"
   ]
  },
  {
   "cell_type": "code",
   "execution_count": 14,
   "metadata": {},
   "outputs": [
    {
     "data": {
      "text/plain": [
       "22"
      ]
     },
     "execution_count": 14,
     "metadata": {},
     "output_type": "execute_result"
    }
   ],
   "source": [
    "index = award_list.index(\"National Book Award Winner\")\n",
    "index"
   ]
  },
  {
   "cell_type": "code",
   "execution_count": 15,
   "metadata": {},
   "outputs": [
    {
     "name": "stdout",
     "output_type": "stream",
     "text": [
      "Newbery Medal Winner\n",
      "Newbery Medal\n"
     ]
    }
   ],
   "source": [
    "t =21\n",
    "print(award_list[t])\n",
    "print(award_min[t])"
   ]
  },
  {
   "cell_type": "code",
   "execution_count": 16,
   "metadata": {},
   "outputs": [],
   "source": [
    "def normalize(award):\n",
    "    for n in award_min:        \n",
    "        x=\"\"\n",
    "        if fuzz.partial_ratio(n.lower(), award.lower()) > 90:\n",
    "            x = award\n",
    "            index =0\n",
    "            if n in award_min:\n",
    "                index = award_min.index(n)\n",
    "                z = award_list[index]  \n",
    "            \n",
    "                return z  \n",
    "      "
   ]
  },
  {
   "cell_type": "code",
   "execution_count": 17,
   "metadata": {},
   "outputs": [],
   "source": [
    "\n",
    "for index, row in df_x.iterrows():\n",
    "    winner_list =[]\n",
    "    winner_final = []\n",
    "    winner_final_s = []\n",
    "    count =0\n",
    "    award = df_x.loc[index, 'Publisher-Provided Awards'].split(\"|\")\n",
    "\n",
    "    for a in range(len(award)):\n",
    "        if \"Nominated\" in award[a]:\n",
    "            count+= 1\n",
    "        elif \"Short-listed\" in award[a]:\n",
    "            count+= 1\n",
    "        elif \"Long-listed\" in award[a]:\n",
    "            count+= 1\n",
    "        elif \"Commended\" in award[a]:\n",
    "            count+= 1\n",
    "        elif \"Finalist\" in award[a]:\n",
    "            count+= 1\n",
    "        elif \"Runner-up\" in award[a]:\n",
    "            count+= 1\n",
    "        elif \"winning author\" in award[a]:\n",
    "            count+= 1\n",
    "        else:\n",
    "            s = re.sub(\"\\d\\d\\d\\d\", \"\", award[a]).strip()#.capitalize()\n",
    "            normalized = normalize(s)\n",
    "            winner_list.append(normalized)\n",
    "            winner_final = [i for i in winner_list if i] # removes empty indices\n",
    "            winner_final = (list(set(winner_final)))\n",
    "\n",
    "    winners = str(winner_final).strip()\n",
    "    df_x.loc[index, 'Removed Non-Winners Count'] = count\n",
    "    df_x.loc[index, 'Winner List'] = winners  \n"
   ]
  },
  {
   "cell_type": "code",
   "execution_count": 18,
   "metadata": {},
   "outputs": [],
   "source": [
    "today = pd.to_datetime('today')\n",
    "end_day = str(today)[:10]\n",
    "start_day = str(today - pd.to_timedelta(14, unit='d'))[:10]"
   ]
  },
  {
   "cell_type": "code",
   "execution_count": 19,
   "metadata": {},
   "outputs": [],
   "source": [
    "df_x.to_excel (r'Awards '+ start_day + ' to ' + end_day + '.xlsx', index = False, header=True)"
   ]
  },
  {
   "cell_type": "markdown",
   "metadata": {},
   "source": [
    "## add NYT Awards"
   ]
  },
  {
   "cell_type": "code",
   "execution_count": 22,
   "metadata": {},
   "outputs": [],
   "source": [
    "NYT_combo_a = pd.concat([df_NYT_1, df_NYT_2], ignore_index=True)\n",
    "NYT_combo_b = NYT_combo_a[['content_id']]\n",
    "NYT_Award_list = NYT_combo_b.drop_duplicates()"
   ]
  },
  {
   "cell_type": "code",
   "execution_count": 23,
   "metadata": {},
   "outputs": [],
   "source": [
    "NYT_Award_list.to_csv (r'NYT_award list ' + end_day + '.csv', index = False, header=True,encoding='utf-8-sig')"
   ]
  },
  {
   "cell_type": "code",
   "execution_count": 24,
   "metadata": {},
   "outputs": [
    {
     "data": {
      "text/html": [
       "<div>\n",
       "<style scoped>\n",
       "    .dataframe tbody tr th:only-of-type {\n",
       "        vertical-align: middle;\n",
       "    }\n",
       "\n",
       "    .dataframe tbody tr th {\n",
       "        vertical-align: top;\n",
       "    }\n",
       "\n",
       "    .dataframe thead th {\n",
       "        text-align: right;\n",
       "    }\n",
       "</style>\n",
       "<table border=\"1\" class=\"dataframe\">\n",
       "  <thead>\n",
       "    <tr style=\"text-align: right;\">\n",
       "      <th></th>\n",
       "      <th>content_id</th>\n",
       "    </tr>\n",
       "  </thead>\n",
       "  <tbody>\n",
       "    <tr>\n",
       "      <th>0</th>\n",
       "      <td>1202757</td>\n",
       "    </tr>\n",
       "    <tr>\n",
       "      <th>1</th>\n",
       "      <td>1225555</td>\n",
       "    </tr>\n",
       "    <tr>\n",
       "      <th>2</th>\n",
       "      <td>417239</td>\n",
       "    </tr>\n",
       "    <tr>\n",
       "      <th>3</th>\n",
       "      <td>329823</td>\n",
       "    </tr>\n",
       "    <tr>\n",
       "      <th>4</th>\n",
       "      <td>1175109</td>\n",
       "    </tr>\n",
       "  </tbody>\n",
       "</table>\n",
       "</div>"
      ],
      "text/plain": [
       "   content_id\n",
       "0     1202757\n",
       "1     1225555\n",
       "2      417239\n",
       "3      329823\n",
       "4     1175109"
      ]
     },
     "execution_count": 24,
     "metadata": {},
     "output_type": "execute_result"
    }
   ],
   "source": [
    "NYT_Award_list = NYT_combo_b.drop_duplicates()\n",
    "NYT_Award_list.head()"
   ]
  },
  {
   "cell_type": "code",
   "execution_count": 25,
   "metadata": {},
   "outputs": [
    {
     "data": {
      "text/plain": [
       "Timestamp('2023-08-28 10:57:49.627853')"
      ]
     },
     "execution_count": 25,
     "metadata": {},
     "output_type": "execute_result"
    }
   ],
   "source": [
    "pd.Timestamp.now()"
   ]
  },
  {
   "cell_type": "code",
   "execution_count": null,
   "metadata": {},
   "outputs": [],
   "source": []
  }
 ],
 "metadata": {
  "kernelspec": {
   "display_name": "Python 3 (ipykernel)",
   "language": "python",
   "name": "python3"
  },
  "language_info": {
   "codemirror_mode": {
    "name": "ipython",
    "version": 3
   },
   "file_extension": ".py",
   "mimetype": "text/x-python",
   "name": "python",
   "nbconvert_exporter": "python",
   "pygments_lexer": "ipython3",
   "version": "3.8.10"
  }
 },
 "nbformat": 4,
 "nbformat_minor": 4
}
