{
 "cells": [
  {
   "cell_type": "code",
   "execution_count": 38,
   "metadata": {},
   "outputs": [],
   "source": [
    "import pandas as pd\n",
    "from time import sleep\n",
    "import datetime\n",
    "import requests"
   ]
  },
  {
   "cell_type": "code",
   "execution_count": 39,
   "metadata": {},
   "outputs": [],
   "source": [
    "today = pd.to_datetime('today')\n",
    "\n",
    "NYT_day = str(today + pd.to_timedelta(6, unit='d'))[:10]"
   ]
  },
  {
   "cell_type": "code",
   "execution_count": 40,
   "metadata": {},
   "outputs": [],
   "source": [
    "url = 'https://api.nytimes.com/svc/books/v3/lists/current/combined-print-and-e-book-fiction.json?api-key=GQbniGSgAlCu0lmsd1FNdyH1GdmtOYo8'\n",
    "r = requests.get(url)\n",
    "json = r.json()\n",
    "df = pd.DataFrame(json['results']['books'])\n",
    "selection_1 = df[['rank','rank_last_week','weeks_on_list','title','author']]"
   ]
  },
  {
   "cell_type": "code",
   "execution_count": 41,
   "metadata": {},
   "outputs": [],
   "source": [
    "sleep(12)"
   ]
  },
  {
   "cell_type": "code",
   "execution_count": 42,
   "metadata": {},
   "outputs": [],
   "source": [
    "data1 = [[\"Combined Print and E-book Fiction\",\"\",\"\",\"\",\"\"]]\n",
    "df = pd.DataFrame(data1, columns=['rank','rank_last_week','weeks_on_list','title','author'])\n",
    "selection_1a = df[['rank','rank_last_week','weeks_on_list','title','author']]"
   ]
  },
  {
   "cell_type": "code",
   "execution_count": 43,
   "metadata": {},
   "outputs": [],
   "source": [
    "url = 'https://api.nytimes.com/svc/books/v3/lists/current/combined-print-and-e-book-nonfiction.json?api-key=GQbniGSgAlCu0lmsd1FNdyH1GdmtOYo8'\n",
    "r = requests.get(url)\n",
    "json = r.json()\n",
    "df = pd.DataFrame(json['results']['books'])\n",
    "selection_2 = df[['rank','rank_last_week','weeks_on_list','title','author']]"
   ]
  },
  {
   "cell_type": "code",
   "execution_count": 44,
   "metadata": {},
   "outputs": [],
   "source": [
    "sleep(12)"
   ]
  },
  {
   "cell_type": "code",
   "execution_count": 45,
   "metadata": {},
   "outputs": [],
   "source": [
    "data1 = [[\"Combined Print and E-book Nonfiction\",\"\",\"\",\"\",\"\"]]\n",
    "df = pd.DataFrame(data1, columns=['rank','rank_last_week','weeks_on_list','title','author'])\n",
    "selection_2a = df[['rank','rank_last_week','weeks_on_list','title','author']]"
   ]
  },
  {
   "cell_type": "code",
   "execution_count": 46,
   "metadata": {},
   "outputs": [],
   "source": [
    "url = 'https://api.nytimes.com/svc/books/v3/lists/current/advice-how-to-and-miscellaneous.json?api-key=GQbniGSgAlCu0lmsd1FNdyH1GdmtOYo8'\n",
    "r = requests.get(url)\n",
    "json = r.json()\n",
    "df = pd.DataFrame(json['results']['books'])\n",
    "selection_3 = df[['rank','rank_last_week','weeks_on_list','title','author']]"
   ]
  },
  {
   "cell_type": "code",
   "execution_count": 47,
   "metadata": {},
   "outputs": [],
   "source": [
    "sleep(12)"
   ]
  },
  {
   "cell_type": "code",
   "execution_count": 48,
   "metadata": {},
   "outputs": [],
   "source": [
    "data1 = [[\"Advice, How-to & Miscellaneous\",\"\",\"\",\"\",\"\"]]\n",
    "df = pd.DataFrame(data1, columns=['rank','rank_last_week','weeks_on_list','title','author'])\n",
    "selection_3a = df[['rank','rank_last_week','weeks_on_list','title','author']]"
   ]
  },
  {
   "cell_type": "code",
   "execution_count": 49,
   "metadata": {},
   "outputs": [],
   "source": [
    "url = 'https://api.nytimes.com/svc/books/v3/lists/current/young-adult-hardcover.json?api-key=GQbniGSgAlCu0lmsd1FNdyH1GdmtOYo8'\n",
    "r = requests.get(url)\n",
    "json = r.json()\n",
    "df = pd.DataFrame(json['results']['books'])\n",
    "selection_4 = df[['rank','rank_last_week','weeks_on_list','title','author']]"
   ]
  },
  {
   "cell_type": "code",
   "execution_count": 50,
   "metadata": {},
   "outputs": [],
   "source": [
    "sleep(12)"
   ]
  },
  {
   "cell_type": "code",
   "execution_count": 51,
   "metadata": {},
   "outputs": [],
   "source": [
    "data1 = [[\"Young Adult Hardcover\",\"\",\"\",\"\",\"\"]]\n",
    "df = pd.DataFrame(data1, columns=['rank','rank_last_week','weeks_on_list','title','author'])\n",
    "selection_4a = df[['rank','rank_last_week','weeks_on_list','title','author']]"
   ]
  },
  {
   "cell_type": "code",
   "execution_count": 52,
   "metadata": {},
   "outputs": [],
   "source": [
    "url = 'https://api.nytimes.com/svc/books/v3/lists/current/childrens-middle-grade-hardcover.json?api-key=GQbniGSgAlCu0lmsd1FNdyH1GdmtOYo8'\n",
    "r = requests.get(url)\n",
    "json = r.json()\n",
    "df = pd.DataFrame(json['results']['books'])\n",
    "selection_5 = df[['rank','rank_last_week','weeks_on_list','title','author']]"
   ]
  },
  {
   "cell_type": "code",
   "execution_count": 53,
   "metadata": {},
   "outputs": [],
   "source": [
    "sleep(12)"
   ]
  },
  {
   "cell_type": "code",
   "execution_count": 54,
   "metadata": {},
   "outputs": [],
   "source": [
    "data1 = [[\"Children's Middle Grade Hardcover\",\"\",\"\",\"\",\"\"]]\n",
    "df = pd.DataFrame(data1, columns=['rank','rank_last_week','weeks_on_list','title','author'])\n",
    "selection_5a = df[['rank','rank_last_week','weeks_on_list','title','author']]"
   ]
  },
  {
   "cell_type": "code",
   "execution_count": 55,
   "metadata": {},
   "outputs": [],
   "source": [
    "url = 'https://api.nytimes.com/svc/books/v3/lists/current/audio-fiction.json?api-key=GQbniGSgAlCu0lmsd1FNdyH1GdmtOYo8'\n",
    "r = requests.get(url)\n",
    "json = r.json()"
   ]
  },
  {
   "cell_type": "code",
   "execution_count": 56,
   "metadata": {},
   "outputs": [],
   "source": [
    "sleep(12)"
   ]
  },
  {
   "cell_type": "code",
   "execution_count": 57,
   "metadata": {},
   "outputs": [],
   "source": [
    "df = pd.DataFrame(json['results']['books'])\n",
    "selection_6 = df[['rank','rank_last_week','weeks_on_list','title','author']]"
   ]
  },
  {
   "cell_type": "code",
   "execution_count": 58,
   "metadata": {},
   "outputs": [],
   "source": [
    "data1 = [[\"Audio Fiction\",\"\",\"\",\"\",\"\"]]\n",
    "df = pd.DataFrame(data1, columns=['rank','rank_last_week','weeks_on_list','title','author'])\n",
    "selection_6a = df[['rank','rank_last_week','weeks_on_list','title','author']]"
   ]
  },
  {
   "cell_type": "code",
   "execution_count": 59,
   "metadata": {},
   "outputs": [],
   "source": [
    "url = 'https://api.nytimes.com/svc/books/v3/lists/current/audio-nonfiction.json?api-key=GQbniGSgAlCu0lmsd1FNdyH1GdmtOYo8'\n",
    "r = requests.get(url)\n",
    "json = r.json()\n",
    "df = pd.DataFrame(json['results']['books'])\n",
    "selection_7 = df[['rank','rank_last_week','weeks_on_list','title','author']]"
   ]
  },
  {
   "cell_type": "code",
   "execution_count": 60,
   "metadata": {},
   "outputs": [],
   "source": [
    "sleep(12)"
   ]
  },
  {
   "cell_type": "code",
   "execution_count": 61,
   "metadata": {},
   "outputs": [],
   "source": [
    "data1 = [[\"Audio Nonfiction\",\"\",\"\",\"\",\"\"]]\n",
    "df = pd.DataFrame(data1, columns=['rank','rank_last_week','weeks_on_list','title','author'])\n",
    "selection_7a = df[['rank','rank_last_week','weeks_on_list','title','author']]"
   ]
  },
  {
   "cell_type": "code",
   "execution_count": 62,
   "metadata": {},
   "outputs": [],
   "source": [
    "url = 'https://api.nytimes.com/svc/books/v3/lists/current/picture-books.json?api-key=GQbniGSgAlCu0lmsd1FNdyH1GdmtOYo8'\n",
    "r = requests.get(url)\n",
    "json = r.json()\n",
    "df = pd.DataFrame(json['results']['books'])\n",
    "selection_8 = df[['rank','rank_last_week','weeks_on_list','title','author']]"
   ]
  },
  {
   "cell_type": "code",
   "execution_count": 63,
   "metadata": {},
   "outputs": [],
   "source": [
    "data1 = [[\"Children's Picture Books\",\"\",\"\",\"\",\"\"]]\n",
    "df = pd.DataFrame(data1, columns=['rank','rank_last_week','weeks_on_list','title','author'])\n",
    "selection_8a = df[['rank','rank_last_week','weeks_on_list','title','author']]"
   ]
  },
  {
   "cell_type": "code",
   "execution_count": 64,
   "metadata": {},
   "outputs": [],
   "source": [
    "combo = pd.concat([selection_1a,selection_1,selection_2a, selection_2,selection_3a, selection_3, selection_4a, selection_4, selection_5a, selection_5, selection_8a, selection_8, selection_6a, selection_6, selection_7a, selection_7], ignore_index=True)\n",
    "combo.to_csv (r'NYT_' + NYT_day + ' combo.csv', index = False, header=True,encoding='utf-8-sig')"
   ]
  },
  {
   "cell_type": "code",
   "execution_count": 65,
   "metadata": {},
   "outputs": [
    {
     "data": {
      "text/plain": [
       "Timestamp('2023-09-05 10:17:04.230183')"
      ]
     },
     "execution_count": 65,
     "metadata": {},
     "output_type": "execute_result"
    }
   ],
   "source": [
    "pd.Timestamp.now()"
   ]
  },
  {
   "cell_type": "code",
   "execution_count": null,
   "metadata": {},
   "outputs": [],
   "source": []
  }
 ],
 "metadata": {
  "kernelspec": {
   "display_name": "Python 3 (ipykernel)",
   "language": "python",
   "name": "python3"
  },
  "language_info": {
   "codemirror_mode": {
    "name": "ipython",
    "version": 3
   },
   "file_extension": ".py",
   "mimetype": "text/x-python",
   "name": "python",
   "nbconvert_exporter": "python",
   "pygments_lexer": "ipython3",
   "version": "3.8.10"
  }
 },
 "nbformat": 4,
 "nbformat_minor": 4
}
